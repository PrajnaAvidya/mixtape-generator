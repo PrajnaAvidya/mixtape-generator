{
 "cells": [
  {
   "cell_type": "code",
   "execution_count": 1,
   "metadata": {},
   "outputs": [
    {
     "name": "stdout",
     "output_type": "stream",
     "text": [
      "Collecting essentia\n",
      "  Downloading essentia-2.1b6.dev184-cp37-cp37m-manylinux1_x86_64.whl (11.7 MB)\n",
      "\u001b[K     |████████████████████████████████| 11.7 MB 10.7 MB/s eta 0:00:01   |███████████▌                    | 4.2 MB 3.2 MB/s eta 0:00:03\n",
      "\u001b[?25hRequirement already satisfied: pyyaml in /opt/conda/lib/python3.7/site-packages (from essentia) (5.3)\n",
      "Requirement already satisfied: numpy>=1.8.2 in /opt/conda/lib/python3.7/site-packages (from essentia) (1.17.5)\n",
      "Requirement already satisfied: six in /opt/conda/lib/python3.7/site-packages (from essentia) (1.14.0)\n",
      "Installing collected packages: essentia\n",
      "Successfully installed essentia-2.1b6.dev184\n",
      "Collecting pymongo\n",
      "  Downloading pymongo-3.10.1-cp37-cp37m-manylinux2014_x86_64.whl (462 kB)\n",
      "\u001b[K     |████████████████████████████████| 462 kB 3.1 MB/s eta 0:00:01\n",
      "\u001b[?25hInstalling collected packages: pymongo\n",
      "Successfully installed pymongo-3.10.1\n"
     ]
    }
   ],
   "source": [
    "import sys\n",
    "!{sys.executable} -m pip install essentia\n",
    "!{sys.executable} -m pip install pymongo"
   ]
  },
  {
   "cell_type": "code",
   "execution_count": 8,
   "metadata": {
    "scrolled": true
   },
   "outputs": [],
   "source": [
    "import os\n",
    "import essentia\n",
    "import essentia.standard as es\n",
    "from pymongo import MongoClient"
   ]
  },
  {
   "cell_type": "code",
   "execution_count": 16,
   "metadata": {},
   "outputs": [],
   "source": [
    "# connect to db\n",
    "client = MongoClient('mongodb://mongo:27017/')\n",
    "db = client.music_analysis\n",
    "songs = db.songs"
   ]
  },
  {
   "cell_type": "code",
   "execution_count": null,
   "metadata": {
    "scrolled": true
   },
   "outputs": [],
   "source": [
    "ignorePrefix = [\n",
    "    'lowlevel.barkbands',\n",
    "    'lowlevel.dissonance',\n",
    "    'lowlevel.erbbands',\n",
    "    'lowlevel.melbands',\n",
    "    'lowlevel.mfcc',\n",
    "    'lowlevel.hfc',\n",
    "    'lowlevel.loudness_ebu128',\n",
    "    'lowlevel.pitch_salience',\n",
    "    'lowlevel.silence_rate',\n",
    "    'lowlevel.spectral_',\n",
    "    'lowlevel.zerocrossingrate',\n",
    "    'tonal.hpcp',\n",
    "    'rhythm.beats_loudness',\n",
    "    'rhythm.beats_position',\n",
    "    'rhythm.bpm_histogram',\n",
    "    'tonal.chords_histogram',\n",
    "    'tonal.thpcp',\n",
    "    'tonal.chords_strength',\n",
    "    'tonal.tuning_diatonic_strength',\n",
    "    'tonal.tuning_equal_tempered_deviation',\n",
    "    'tonal.tuning_nontempered_energy_ratio',\n",
    "    'tonal.key',\n",
    "    'lowlevel.gfcc',\n",
    "    'lowlevel.mfcc',\n",
    "    'metadata'\n",
    "]\n",
    "ignoreSuffix = [\n",
    "    '.probability',\n",
    "    '.strength'\n",
    "]\n",
    "whitelist = [\n",
    "    'lowlevel.dissonance.median',\n",
    "    'rhythm.beats_loudness.median',\n",
    "    'tonal.chords_strength.median',\n",
    "    'tonal.key_krumhansl.key',\n",
    "    'tonal.key_krumhansl.scale'\n",
    "]\n",
    "\n",
    "# scan all directories for audio files & store data\n",
    "# approx 11k songs total\n",
    "directories = [x[0] for x in os.walk('./../../music/')]\n",
    "for directory in directories:\n",
    "    for file in os.listdir(directory):\n",
    "        if file.endswith('.mp3') or file.endswith('.m4a') or file.endswith('.ogg') or file.endswith('.m4p') or file.endswith('.flac'):\n",
    "            filename = directory+'/'+file\n",
    "            # check if already in db\n",
    "            record = songs.find_one({'filename': filename})\n",
    "            if record is None:\n",
    "                # analyze song\n",
    "                features, features_frames = es.MusicExtractor(profile=\"profile.yml\")(filename)\n",
    "                # make object to store in mongo\n",
    "                song = {'filename': filename}\n",
    "                for stat in features.descriptorNames():\n",
    "                    if stat in whitelist or (not 'not_' in stat and not stat.startswith(tuple(ignorePrefix)) and not stat.endswith(tuple(ignoreSuffix))):\n",
    "                        # remove dots from key\n",
    "                        stat_cleaned = stat.replace('.','')\n",
    "                        song[stat_cleaned] = features[stat]\n",
    "                # store in database\n",
    "                song_id = songs.insert_one(song).inserted_id\n",
    "                print(filename+' - '+str(song_id))"
   ]
  },
  {
   "cell_type": "code",
   "execution_count": null,
   "metadata": {},
   "outputs": [],
   "source": []
  }
 ],
 "metadata": {
  "kernelspec": {
   "display_name": "Python 3",
   "language": "python",
   "name": "python3"
  },
  "language_info": {
   "codemirror_mode": {
    "name": "ipython",
    "version": 3
   },
   "file_extension": ".py",
   "mimetype": "text/x-python",
   "name": "python",
   "nbconvert_exporter": "python",
   "pygments_lexer": "ipython3",
   "version": "3.7.4"
  }
 },
 "nbformat": 4,
 "nbformat_minor": 4
}
