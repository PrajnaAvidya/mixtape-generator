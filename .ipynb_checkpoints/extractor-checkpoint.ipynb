{
 "cells": [
  {
   "cell_type": "code",
   "execution_count": 3,
   "metadata": {},
   "outputs": [
    {
     "name": "stdout",
     "output_type": "stream",
     "text": [
      "Collecting essentia\n",
      "  Downloading essentia-2.1b6.dev184-cp37-cp37m-manylinux1_x86_64.whl (11.7 MB)\n",
      "\u001b[K     |████████████████████████████████| 11.7 MB 251 kB/s  eta 0:00:01   |███████████▊                    | 4.3 MB 1.6 MB/s eta 0:00:05     |██████████████▍                 | 5.3 MB 1.6 MB/s eta 0:00:04\n",
      "\u001b[?25hRequirement already satisfied: pyyaml in /opt/conda/lib/python3.7/site-packages (from essentia) (5.3)\n",
      "Requirement already satisfied: numpy>=1.8.2 in /opt/conda/lib/python3.7/site-packages (from essentia) (1.17.5)\n",
      "Requirement already satisfied: six in /opt/conda/lib/python3.7/site-packages (from essentia) (1.14.0)\n",
      "Installing collected packages: essentia\n",
      "Successfully installed essentia-2.1b6.dev184\n"
     ]
    }
   ],
   "source": [
    "import sys\n",
    "!{sys.executable} -m pip install essentia"
   ]
  },
  {
   "cell_type": "code",
   "execution_count": 2,
   "metadata": {
    "scrolled": true
   },
   "outputs": [],
   "source": [
    "import os\n",
    "import essentia\n",
    "import essentia.standard as es"
   ]
  },
  {
   "cell_type": "code",
   "execution_count": 55,
   "metadata": {},
   "outputs": [],
   "source": [
    "#filename = \"./../../music/16 Bit Lolitas/Beat Organ EP/01 Beat Organ (original mix).mp3\"\n",
    "filename = './../../music/Ne‐Yo/Year of the Gentleman/01 Closer.mp3'\n",
    "\n",
    "features, features_frames = es.MusicExtractor(profile=\"profile.yml\")(filename)"
   ]
  },
  {
   "cell_type": "code",
   "execution_count": 21,
   "metadata": {
    "scrolled": false
   },
   "outputs": [
    {
     "name": "stdout",
     "output_type": "stream",
     "text": [
      "01 Doncamatic.mp3\n",
      "<essentia.common.Pool object at 0x7fa8d744b610>\n"
     ]
    },
    {
     "ename": "RuntimeError",
     "evalue": "No active exception to reraise",
     "output_type": "error",
     "traceback": [
      "\u001b[0;31m---------------------------------------------------------------------------\u001b[0m",
      "\u001b[0;31mRuntimeError\u001b[0m                              Traceback (most recent call last)",
      "\u001b[0;32m<ipython-input-21-e3a3de9441ef>\u001b[0m in \u001b[0;36m<module>\u001b[0;34m\u001b[0m\n\u001b[1;32m      7\u001b[0m             \u001b[0mfeatures\u001b[0m\u001b[0;34m,\u001b[0m \u001b[0mfeatures_frames\u001b[0m \u001b[0;34m=\u001b[0m \u001b[0mes\u001b[0m\u001b[0;34m.\u001b[0m\u001b[0mMusicExtractor\u001b[0m\u001b[0;34m(\u001b[0m\u001b[0mprofile\u001b[0m\u001b[0;34m=\u001b[0m\u001b[0;34m\"profile.yml\"\u001b[0m\u001b[0;34m)\u001b[0m\u001b[0;34m(\u001b[0m\u001b[0mfilename\u001b[0m\u001b[0;34m)\u001b[0m\u001b[0;34m\u001b[0m\u001b[0;34m\u001b[0m\u001b[0m\n\u001b[1;32m      8\u001b[0m             \u001b[0mprint\u001b[0m\u001b[0;34m(\u001b[0m\u001b[0mfeatures_frames\u001b[0m\u001b[0;34m)\u001b[0m\u001b[0;34m\u001b[0m\u001b[0;34m\u001b[0m\u001b[0m\n\u001b[0;32m----> 9\u001b[0;31m             \u001b[0;32mraise\u001b[0m\u001b[0;34m\u001b[0m\u001b[0;34m\u001b[0m\u001b[0m\n\u001b[0m",
      "\u001b[0;31mRuntimeError\u001b[0m: No active exception to reraise"
     ]
    }
   ],
   "source": [
    "# scan all directories for audio files\n",
    "directories = [x[0] for x in os.walk('./../../music/')]\n",
    "for directory in directories:\n",
    "    for file in os.listdir(directory):\n",
    "        if file.endswith('.mp3') or file.endswith('.m4a') or file.endswith('.ogg') or file.endswith('.m4p') or file.endswith('.flac'):\n",
    "            print(file)\n",
    "            filename = directory+'/'+file\n",
    "            features, features_frames = es.MusicExtractor(profile=\"profile.yml\")(filename)\n",
    "            print(features_frames)\n",
    "            # TODO store in database:\n",
    "            # all mood/genre values, key, bpm, etc\n",
    "            raise"
   ]
  },
  {
   "cell_type": "code",
   "execution_count": 37,
   "metadata": {},
   "outputs": [
    {
     "name": "stdout",
     "output_type": "stream",
     "text": [
      "['highlevel.danceability.all.danceable', 'highlevel.danceability.all.not_danceable', 'highlevel.danceability.probability', 'highlevel.danceability.value', 'highlevel.genre_electronic.all.ambient', 'highlevel.genre_electronic.all.dnb', 'highlevel.genre_electronic.all.house', 'highlevel.genre_electronic.all.techno', 'highlevel.genre_electronic.all.trance', 'highlevel.genre_electronic.probability', 'highlevel.genre_electronic.value', 'highlevel.genre_rosamerica.all.cla', 'highlevel.genre_rosamerica.all.dan', 'highlevel.genre_rosamerica.all.hip', 'highlevel.genre_rosamerica.all.jaz', 'highlevel.genre_rosamerica.all.pop', 'highlevel.genre_rosamerica.all.rhy', 'highlevel.genre_rosamerica.all.roc', 'highlevel.genre_rosamerica.all.spe', 'highlevel.genre_rosamerica.probability', 'highlevel.genre_rosamerica.value', 'highlevel.mood_acoustic.all.acoustic', 'highlevel.mood_acoustic.all.not_acoustic', 'highlevel.mood_acoustic.probability', 'highlevel.mood_acoustic.value', 'highlevel.mood_aggressive.all.aggressive', 'highlevel.mood_aggressive.all.not_aggressive', 'highlevel.mood_aggressive.probability', 'highlevel.mood_aggressive.value', 'highlevel.mood_electronic.all.electronic', 'highlevel.mood_electronic.all.not_electronic', 'highlevel.mood_electronic.probability', 'highlevel.mood_electronic.value', 'highlevel.mood_happy.all.happy', 'highlevel.mood_happy.all.not_happy', 'highlevel.mood_happy.probability', 'highlevel.mood_happy.value', 'highlevel.mood_party.all.not_party', 'highlevel.mood_party.all.party', 'highlevel.mood_party.probability', 'highlevel.mood_party.value', 'highlevel.mood_relaxed.all.not_relaxed', 'highlevel.mood_relaxed.all.relaxed', 'highlevel.mood_relaxed.probability', 'highlevel.mood_relaxed.value', 'highlevel.mood_sad.all.not_sad', 'highlevel.mood_sad.all.sad', 'highlevel.mood_sad.probability', 'highlevel.mood_sad.value', 'highlevel.moods_mirex.all.Cluster1', 'highlevel.moods_mirex.all.Cluster2', 'highlevel.moods_mirex.all.Cluster3', 'highlevel.moods_mirex.all.Cluster4', 'highlevel.moods_mirex.all.Cluster5', 'highlevel.moods_mirex.probability', 'highlevel.moods_mirex.value', 'highlevel.timbre.all.bright', 'highlevel.timbre.all.dark', 'highlevel.timbre.probability', 'highlevel.timbre.value', 'highlevel.tonal_atonal.all.atonal', 'highlevel.tonal_atonal.all.tonal', 'highlevel.tonal_atonal.probability', 'highlevel.tonal_atonal.value', 'highlevel.voice_instrumental.all.instrumental', 'highlevel.voice_instrumental.all.voice', 'highlevel.voice_instrumental.probability', 'highlevel.voice_instrumental.value', 'lowlevel.average_loudness', 'lowlevel.barkbands.dmean', 'lowlevel.barkbands.dmean2', 'lowlevel.barkbands.dvar', 'lowlevel.barkbands.dvar2', 'lowlevel.barkbands.max', 'lowlevel.barkbands.mean', 'lowlevel.barkbands.median', 'lowlevel.barkbands.min', 'lowlevel.barkbands.stdev', 'lowlevel.barkbands.var', 'lowlevel.barkbands_crest.dmean', 'lowlevel.barkbands_crest.dmean2', 'lowlevel.barkbands_crest.dvar', 'lowlevel.barkbands_crest.dvar2', 'lowlevel.barkbands_crest.max', 'lowlevel.barkbands_crest.mean', 'lowlevel.barkbands_crest.median', 'lowlevel.barkbands_crest.min', 'lowlevel.barkbands_crest.stdev', 'lowlevel.barkbands_crest.var', 'lowlevel.barkbands_flatness_db.dmean', 'lowlevel.barkbands_flatness_db.dmean2', 'lowlevel.barkbands_flatness_db.dvar', 'lowlevel.barkbands_flatness_db.dvar2', 'lowlevel.barkbands_flatness_db.max', 'lowlevel.barkbands_flatness_db.mean', 'lowlevel.barkbands_flatness_db.median', 'lowlevel.barkbands_flatness_db.min', 'lowlevel.barkbands_flatness_db.stdev', 'lowlevel.barkbands_flatness_db.var', 'lowlevel.barkbands_kurtosis.dmean', 'lowlevel.barkbands_kurtosis.dmean2', 'lowlevel.barkbands_kurtosis.dvar', 'lowlevel.barkbands_kurtosis.dvar2', 'lowlevel.barkbands_kurtosis.max', 'lowlevel.barkbands_kurtosis.mean', 'lowlevel.barkbands_kurtosis.median', 'lowlevel.barkbands_kurtosis.min', 'lowlevel.barkbands_kurtosis.stdev', 'lowlevel.barkbands_kurtosis.var', 'lowlevel.barkbands_skewness.dmean', 'lowlevel.barkbands_skewness.dmean2', 'lowlevel.barkbands_skewness.dvar', 'lowlevel.barkbands_skewness.dvar2', 'lowlevel.barkbands_skewness.max', 'lowlevel.barkbands_skewness.mean', 'lowlevel.barkbands_skewness.median', 'lowlevel.barkbands_skewness.min', 'lowlevel.barkbands_skewness.stdev', 'lowlevel.barkbands_skewness.var', 'lowlevel.barkbands_spread.dmean', 'lowlevel.barkbands_spread.dmean2', 'lowlevel.barkbands_spread.dvar', 'lowlevel.barkbands_spread.dvar2', 'lowlevel.barkbands_spread.max', 'lowlevel.barkbands_spread.mean', 'lowlevel.barkbands_spread.median', 'lowlevel.barkbands_spread.min', 'lowlevel.barkbands_spread.stdev', 'lowlevel.barkbands_spread.var', 'lowlevel.dissonance.dmean', 'lowlevel.dissonance.dmean2', 'lowlevel.dissonance.dvar', 'lowlevel.dissonance.dvar2', 'lowlevel.dissonance.max', 'lowlevel.dissonance.mean', 'lowlevel.dissonance.median', 'lowlevel.dissonance.min', 'lowlevel.dissonance.stdev', 'lowlevel.dissonance.var', 'lowlevel.dynamic_complexity', 'lowlevel.erbbands.dmean', 'lowlevel.erbbands.dmean2', 'lowlevel.erbbands.dvar', 'lowlevel.erbbands.dvar2', 'lowlevel.erbbands.max', 'lowlevel.erbbands.mean', 'lowlevel.erbbands.median', 'lowlevel.erbbands.min', 'lowlevel.erbbands.stdev', 'lowlevel.erbbands.var', 'lowlevel.erbbands_crest.dmean', 'lowlevel.erbbands_crest.dmean2', 'lowlevel.erbbands_crest.dvar', 'lowlevel.erbbands_crest.dvar2', 'lowlevel.erbbands_crest.max', 'lowlevel.erbbands_crest.mean', 'lowlevel.erbbands_crest.median', 'lowlevel.erbbands_crest.min', 'lowlevel.erbbands_crest.stdev', 'lowlevel.erbbands_crest.var', 'lowlevel.erbbands_flatness_db.dmean', 'lowlevel.erbbands_flatness_db.dmean2', 'lowlevel.erbbands_flatness_db.dvar', 'lowlevel.erbbands_flatness_db.dvar2', 'lowlevel.erbbands_flatness_db.max', 'lowlevel.erbbands_flatness_db.mean', 'lowlevel.erbbands_flatness_db.median', 'lowlevel.erbbands_flatness_db.min', 'lowlevel.erbbands_flatness_db.stdev', 'lowlevel.erbbands_flatness_db.var', 'lowlevel.erbbands_kurtosis.dmean', 'lowlevel.erbbands_kurtosis.dmean2', 'lowlevel.erbbands_kurtosis.dvar', 'lowlevel.erbbands_kurtosis.dvar2', 'lowlevel.erbbands_kurtosis.max', 'lowlevel.erbbands_kurtosis.mean', 'lowlevel.erbbands_kurtosis.median', 'lowlevel.erbbands_kurtosis.min', 'lowlevel.erbbands_kurtosis.stdev', 'lowlevel.erbbands_kurtosis.var', 'lowlevel.erbbands_skewness.dmean', 'lowlevel.erbbands_skewness.dmean2', 'lowlevel.erbbands_skewness.dvar', 'lowlevel.erbbands_skewness.dvar2', 'lowlevel.erbbands_skewness.max', 'lowlevel.erbbands_skewness.mean', 'lowlevel.erbbands_skewness.median', 'lowlevel.erbbands_skewness.min', 'lowlevel.erbbands_skewness.stdev', 'lowlevel.erbbands_skewness.var', 'lowlevel.erbbands_spread.dmean', 'lowlevel.erbbands_spread.dmean2', 'lowlevel.erbbands_spread.dvar', 'lowlevel.erbbands_spread.dvar2', 'lowlevel.erbbands_spread.max', 'lowlevel.erbbands_spread.mean', 'lowlevel.erbbands_spread.median', 'lowlevel.erbbands_spread.min', 'lowlevel.erbbands_spread.stdev', 'lowlevel.erbbands_spread.var', 'lowlevel.gfcc.cov', 'lowlevel.gfcc.icov', 'lowlevel.gfcc.mean', 'lowlevel.hfc.dmean', 'lowlevel.hfc.dmean2', 'lowlevel.hfc.dvar', 'lowlevel.hfc.dvar2', 'lowlevel.hfc.max', 'lowlevel.hfc.mean', 'lowlevel.hfc.median', 'lowlevel.hfc.min', 'lowlevel.hfc.stdev', 'lowlevel.hfc.var', 'lowlevel.loudness_ebu128.integrated', 'lowlevel.loudness_ebu128.loudness_range', 'lowlevel.loudness_ebu128.momentary.dmean', 'lowlevel.loudness_ebu128.momentary.dmean2', 'lowlevel.loudness_ebu128.momentary.dvar', 'lowlevel.loudness_ebu128.momentary.dvar2', 'lowlevel.loudness_ebu128.momentary.max', 'lowlevel.loudness_ebu128.momentary.mean', 'lowlevel.loudness_ebu128.momentary.median', 'lowlevel.loudness_ebu128.momentary.min', 'lowlevel.loudness_ebu128.momentary.stdev', 'lowlevel.loudness_ebu128.momentary.var', 'lowlevel.loudness_ebu128.short_term.dmean', 'lowlevel.loudness_ebu128.short_term.dmean2', 'lowlevel.loudness_ebu128.short_term.dvar', 'lowlevel.loudness_ebu128.short_term.dvar2', 'lowlevel.loudness_ebu128.short_term.max', 'lowlevel.loudness_ebu128.short_term.mean', 'lowlevel.loudness_ebu128.short_term.median', 'lowlevel.loudness_ebu128.short_term.min', 'lowlevel.loudness_ebu128.short_term.stdev', 'lowlevel.loudness_ebu128.short_term.var', 'lowlevel.melbands.dmean', 'lowlevel.melbands.dmean2', 'lowlevel.melbands.dvar', 'lowlevel.melbands.dvar2', 'lowlevel.melbands.max', 'lowlevel.melbands.mean', 'lowlevel.melbands.median', 'lowlevel.melbands.min', 'lowlevel.melbands.stdev', 'lowlevel.melbands.var', 'lowlevel.melbands128.dmean', 'lowlevel.melbands128.dmean2', 'lowlevel.melbands128.dvar', 'lowlevel.melbands128.dvar2', 'lowlevel.melbands128.max', 'lowlevel.melbands128.mean', 'lowlevel.melbands128.median', 'lowlevel.melbands128.min', 'lowlevel.melbands128.stdev', 'lowlevel.melbands128.var', 'lowlevel.melbands_crest.dmean', 'lowlevel.melbands_crest.dmean2', 'lowlevel.melbands_crest.dvar', 'lowlevel.melbands_crest.dvar2', 'lowlevel.melbands_crest.max', 'lowlevel.melbands_crest.mean', 'lowlevel.melbands_crest.median', 'lowlevel.melbands_crest.min', 'lowlevel.melbands_crest.stdev', 'lowlevel.melbands_crest.var', 'lowlevel.melbands_flatness_db.dmean', 'lowlevel.melbands_flatness_db.dmean2', 'lowlevel.melbands_flatness_db.dvar', 'lowlevel.melbands_flatness_db.dvar2', 'lowlevel.melbands_flatness_db.max', 'lowlevel.melbands_flatness_db.mean', 'lowlevel.melbands_flatness_db.median', 'lowlevel.melbands_flatness_db.min', 'lowlevel.melbands_flatness_db.stdev', 'lowlevel.melbands_flatness_db.var', 'lowlevel.melbands_kurtosis.dmean', 'lowlevel.melbands_kurtosis.dmean2', 'lowlevel.melbands_kurtosis.dvar', 'lowlevel.melbands_kurtosis.dvar2', 'lowlevel.melbands_kurtosis.max', 'lowlevel.melbands_kurtosis.mean', 'lowlevel.melbands_kurtosis.median', 'lowlevel.melbands_kurtosis.min', 'lowlevel.melbands_kurtosis.stdev', 'lowlevel.melbands_kurtosis.var', 'lowlevel.melbands_skewness.dmean', 'lowlevel.melbands_skewness.dmean2', 'lowlevel.melbands_skewness.dvar', 'lowlevel.melbands_skewness.dvar2', 'lowlevel.melbands_skewness.max', 'lowlevel.melbands_skewness.mean', 'lowlevel.melbands_skewness.median', 'lowlevel.melbands_skewness.min', 'lowlevel.melbands_skewness.stdev', 'lowlevel.melbands_skewness.var', 'lowlevel.melbands_spread.dmean', 'lowlevel.melbands_spread.dmean2', 'lowlevel.melbands_spread.dvar', 'lowlevel.melbands_spread.dvar2', 'lowlevel.melbands_spread.max', 'lowlevel.melbands_spread.mean', 'lowlevel.melbands_spread.median', 'lowlevel.melbands_spread.min', 'lowlevel.melbands_spread.stdev', 'lowlevel.melbands_spread.var', 'lowlevel.mfcc.cov', 'lowlevel.mfcc.icov', 'lowlevel.mfcc.mean', 'lowlevel.pitch_salience.dmean', 'lowlevel.pitch_salience.dmean2', 'lowlevel.pitch_salience.dvar', 'lowlevel.pitch_salience.dvar2', 'lowlevel.pitch_salience.max', 'lowlevel.pitch_salience.mean', 'lowlevel.pitch_salience.median', 'lowlevel.pitch_salience.min', 'lowlevel.pitch_salience.stdev', 'lowlevel.pitch_salience.var', 'lowlevel.silence_rate_20dB.dmean', 'lowlevel.silence_rate_20dB.dmean2', 'lowlevel.silence_rate_20dB.dvar', 'lowlevel.silence_rate_20dB.dvar2', 'lowlevel.silence_rate_20dB.max', 'lowlevel.silence_rate_20dB.mean', 'lowlevel.silence_rate_20dB.median', 'lowlevel.silence_rate_20dB.min', 'lowlevel.silence_rate_20dB.stdev', 'lowlevel.silence_rate_20dB.var', 'lowlevel.silence_rate_30dB.dmean', 'lowlevel.silence_rate_30dB.dmean2', 'lowlevel.silence_rate_30dB.dvar', 'lowlevel.silence_rate_30dB.dvar2', 'lowlevel.silence_rate_30dB.max', 'lowlevel.silence_rate_30dB.mean', 'lowlevel.silence_rate_30dB.median', 'lowlevel.silence_rate_30dB.min', 'lowlevel.silence_rate_30dB.stdev', 'lowlevel.silence_rate_30dB.var', 'lowlevel.silence_rate_60dB.dmean', 'lowlevel.silence_rate_60dB.dmean2', 'lowlevel.silence_rate_60dB.dvar', 'lowlevel.silence_rate_60dB.dvar2', 'lowlevel.silence_rate_60dB.max', 'lowlevel.silence_rate_60dB.mean', 'lowlevel.silence_rate_60dB.median', 'lowlevel.silence_rate_60dB.min', 'lowlevel.silence_rate_60dB.stdev', 'lowlevel.silence_rate_60dB.var', 'lowlevel.spectral_centroid.dmean', 'lowlevel.spectral_centroid.dmean2', 'lowlevel.spectral_centroid.dvar', 'lowlevel.spectral_centroid.dvar2', 'lowlevel.spectral_centroid.max', 'lowlevel.spectral_centroid.mean', 'lowlevel.spectral_centroid.median', 'lowlevel.spectral_centroid.min', 'lowlevel.spectral_centroid.stdev', 'lowlevel.spectral_centroid.var', 'lowlevel.spectral_complexity.dmean', 'lowlevel.spectral_complexity.dmean2', 'lowlevel.spectral_complexity.dvar', 'lowlevel.spectral_complexity.dvar2', 'lowlevel.spectral_complexity.max', 'lowlevel.spectral_complexity.mean', 'lowlevel.spectral_complexity.median', 'lowlevel.spectral_complexity.min', 'lowlevel.spectral_complexity.stdev', 'lowlevel.spectral_complexity.var', 'lowlevel.spectral_contrast_coeffs.dmean', 'lowlevel.spectral_contrast_coeffs.dmean2', 'lowlevel.spectral_contrast_coeffs.dvar', 'lowlevel.spectral_contrast_coeffs.dvar2', 'lowlevel.spectral_contrast_coeffs.max', 'lowlevel.spectral_contrast_coeffs.mean', 'lowlevel.spectral_contrast_coeffs.median', 'lowlevel.spectral_contrast_coeffs.min', 'lowlevel.spectral_contrast_coeffs.stdev', 'lowlevel.spectral_contrast_coeffs.var', 'lowlevel.spectral_contrast_valleys.dmean', 'lowlevel.spectral_contrast_valleys.dmean2', 'lowlevel.spectral_contrast_valleys.dvar', 'lowlevel.spectral_contrast_valleys.dvar2', 'lowlevel.spectral_contrast_valleys.max', 'lowlevel.spectral_contrast_valleys.mean', 'lowlevel.spectral_contrast_valleys.median', 'lowlevel.spectral_contrast_valleys.min', 'lowlevel.spectral_contrast_valleys.stdev', 'lowlevel.spectral_contrast_valleys.var', 'lowlevel.spectral_decrease.dmean', 'lowlevel.spectral_decrease.dmean2', 'lowlevel.spectral_decrease.dvar', 'lowlevel.spectral_decrease.dvar2', 'lowlevel.spectral_decrease.max', 'lowlevel.spectral_decrease.mean', 'lowlevel.spectral_decrease.median', 'lowlevel.spectral_decrease.min', 'lowlevel.spectral_decrease.stdev', 'lowlevel.spectral_decrease.var', 'lowlevel.spectral_energy.dmean', 'lowlevel.spectral_energy.dmean2', 'lowlevel.spectral_energy.dvar', 'lowlevel.spectral_energy.dvar2', 'lowlevel.spectral_energy.max', 'lowlevel.spectral_energy.mean', 'lowlevel.spectral_energy.median', 'lowlevel.spectral_energy.min', 'lowlevel.spectral_energy.stdev', 'lowlevel.spectral_energy.var', 'lowlevel.spectral_energyband_high.dmean', 'lowlevel.spectral_energyband_high.dmean2', 'lowlevel.spectral_energyband_high.dvar', 'lowlevel.spectral_energyband_high.dvar2', 'lowlevel.spectral_energyband_high.max', 'lowlevel.spectral_energyband_high.mean', 'lowlevel.spectral_energyband_high.median', 'lowlevel.spectral_energyband_high.min', 'lowlevel.spectral_energyband_high.stdev', 'lowlevel.spectral_energyband_high.var', 'lowlevel.spectral_energyband_low.dmean', 'lowlevel.spectral_energyband_low.dmean2', 'lowlevel.spectral_energyband_low.dvar', 'lowlevel.spectral_energyband_low.dvar2', 'lowlevel.spectral_energyband_low.max', 'lowlevel.spectral_energyband_low.mean', 'lowlevel.spectral_energyband_low.median', 'lowlevel.spectral_energyband_low.min', 'lowlevel.spectral_energyband_low.stdev', 'lowlevel.spectral_energyband_low.var', 'lowlevel.spectral_energyband_middle_high.dmean', 'lowlevel.spectral_energyband_middle_high.dmean2', 'lowlevel.spectral_energyband_middle_high.dvar', 'lowlevel.spectral_energyband_middle_high.dvar2', 'lowlevel.spectral_energyband_middle_high.max', 'lowlevel.spectral_energyband_middle_high.mean', 'lowlevel.spectral_energyband_middle_high.median', 'lowlevel.spectral_energyband_middle_high.min', 'lowlevel.spectral_energyband_middle_high.stdev', 'lowlevel.spectral_energyband_middle_high.var', 'lowlevel.spectral_energyband_middle_low.dmean', 'lowlevel.spectral_energyband_middle_low.dmean2', 'lowlevel.spectral_energyband_middle_low.dvar', 'lowlevel.spectral_energyband_middle_low.dvar2', 'lowlevel.spectral_energyband_middle_low.max', 'lowlevel.spectral_energyband_middle_low.mean', 'lowlevel.spectral_energyband_middle_low.median', 'lowlevel.spectral_energyband_middle_low.min', 'lowlevel.spectral_energyband_middle_low.stdev', 'lowlevel.spectral_energyband_middle_low.var', 'lowlevel.spectral_entropy.dmean', 'lowlevel.spectral_entropy.dmean2', 'lowlevel.spectral_entropy.dvar', 'lowlevel.spectral_entropy.dvar2', 'lowlevel.spectral_entropy.max', 'lowlevel.spectral_entropy.mean', 'lowlevel.spectral_entropy.median', 'lowlevel.spectral_entropy.min', 'lowlevel.spectral_entropy.stdev', 'lowlevel.spectral_entropy.var', 'lowlevel.spectral_flux.dmean', 'lowlevel.spectral_flux.dmean2', 'lowlevel.spectral_flux.dvar', 'lowlevel.spectral_flux.dvar2', 'lowlevel.spectral_flux.max', 'lowlevel.spectral_flux.mean', 'lowlevel.spectral_flux.median', 'lowlevel.spectral_flux.min', 'lowlevel.spectral_flux.stdev', 'lowlevel.spectral_flux.var', 'lowlevel.spectral_kurtosis.dmean', 'lowlevel.spectral_kurtosis.dmean2', 'lowlevel.spectral_kurtosis.dvar', 'lowlevel.spectral_kurtosis.dvar2', 'lowlevel.spectral_kurtosis.max', 'lowlevel.spectral_kurtosis.mean', 'lowlevel.spectral_kurtosis.median', 'lowlevel.spectral_kurtosis.min', 'lowlevel.spectral_kurtosis.stdev', 'lowlevel.spectral_kurtosis.var', 'lowlevel.spectral_rms.dmean', 'lowlevel.spectral_rms.dmean2', 'lowlevel.spectral_rms.dvar', 'lowlevel.spectral_rms.dvar2', 'lowlevel.spectral_rms.max', 'lowlevel.spectral_rms.mean', 'lowlevel.spectral_rms.median', 'lowlevel.spectral_rms.min', 'lowlevel.spectral_rms.stdev', 'lowlevel.spectral_rms.var', 'lowlevel.spectral_rolloff.dmean', 'lowlevel.spectral_rolloff.dmean2', 'lowlevel.spectral_rolloff.dvar', 'lowlevel.spectral_rolloff.dvar2', 'lowlevel.spectral_rolloff.max', 'lowlevel.spectral_rolloff.mean', 'lowlevel.spectral_rolloff.median', 'lowlevel.spectral_rolloff.min', 'lowlevel.spectral_rolloff.stdev', 'lowlevel.spectral_rolloff.var', 'lowlevel.spectral_skewness.dmean', 'lowlevel.spectral_skewness.dmean2', 'lowlevel.spectral_skewness.dvar', 'lowlevel.spectral_skewness.dvar2', 'lowlevel.spectral_skewness.max', 'lowlevel.spectral_skewness.mean', 'lowlevel.spectral_skewness.median', 'lowlevel.spectral_skewness.min', 'lowlevel.spectral_skewness.stdev', 'lowlevel.spectral_skewness.var', 'lowlevel.spectral_spread.dmean', 'lowlevel.spectral_spread.dmean2', 'lowlevel.spectral_spread.dvar', 'lowlevel.spectral_spread.dvar2', 'lowlevel.spectral_spread.max', 'lowlevel.spectral_spread.mean', 'lowlevel.spectral_spread.median', 'lowlevel.spectral_spread.min', 'lowlevel.spectral_spread.stdev', 'lowlevel.spectral_spread.var', 'lowlevel.spectral_strongpeak.dmean', 'lowlevel.spectral_strongpeak.dmean2', 'lowlevel.spectral_strongpeak.dvar', 'lowlevel.spectral_strongpeak.dvar2', 'lowlevel.spectral_strongpeak.max', 'lowlevel.spectral_strongpeak.mean', 'lowlevel.spectral_strongpeak.median', 'lowlevel.spectral_strongpeak.min', 'lowlevel.spectral_strongpeak.stdev', 'lowlevel.spectral_strongpeak.var', 'lowlevel.zerocrossingrate.dmean', 'lowlevel.zerocrossingrate.dmean2', 'lowlevel.zerocrossingrate.dvar', 'lowlevel.zerocrossingrate.dvar2', 'lowlevel.zerocrossingrate.max', 'lowlevel.zerocrossingrate.mean', 'lowlevel.zerocrossingrate.median', 'lowlevel.zerocrossingrate.min', 'lowlevel.zerocrossingrate.stdev', 'lowlevel.zerocrossingrate.var', 'metadata.audio_properties.analysis.downmix', 'metadata.audio_properties.analysis.equal_loudness', 'metadata.audio_properties.analysis.length', 'metadata.audio_properties.analysis.sample_rate', 'metadata.audio_properties.analysis.start_time', 'metadata.audio_properties.bit_rate', 'metadata.audio_properties.codec', 'metadata.audio_properties.length', 'metadata.audio_properties.lossless', 'metadata.audio_properties.md5_encoded', 'metadata.audio_properties.number_channels', 'metadata.audio_properties.replay_gain', 'metadata.audio_properties.sample_rate', 'metadata.tags.album', 'metadata.tags.albumartist', 'metadata.tags.albumartistsort', 'metadata.tags.artist', 'metadata.tags.artistsort', 'metadata.tags.bpm', 'metadata.tags.date', 'metadata.tags.discnumber', 'metadata.tags.encodedby', 'metadata.tags.file_name', 'metadata.tags.initialkey', 'metadata.tags.label', 'metadata.tags.language', 'metadata.tags.media', 'metadata.tags.musicbrainz album release country', 'metadata.tags.musicbrainz album status', 'metadata.tags.musicbrainz album type', 'metadata.tags.musicbrainz_albumartistid', 'metadata.tags.musicbrainz_albumid', 'metadata.tags.musicbrainz_artistid', 'metadata.tags.musicbrainz_releasegroupid', 'metadata.tags.musicbrainz_trackid', 'metadata.tags.originaldate', 'metadata.tags.script', 'metadata.tags.title', 'metadata.tags.tracknumber', 'metadata.version.essentia', 'metadata.version.essentia_git_sha', 'metadata.version.extractor', 'rhythm.beats_count', 'rhythm.beats_loudness.dmean', 'rhythm.beats_loudness.dmean2', 'rhythm.beats_loudness.dvar', 'rhythm.beats_loudness.dvar2', 'rhythm.beats_loudness.max', 'rhythm.beats_loudness.mean', 'rhythm.beats_loudness.median', 'rhythm.beats_loudness.min', 'rhythm.beats_loudness.stdev', 'rhythm.beats_loudness.var', 'rhythm.beats_loudness_band_ratio.dmean', 'rhythm.beats_loudness_band_ratio.dmean2', 'rhythm.beats_loudness_band_ratio.dvar', 'rhythm.beats_loudness_band_ratio.dvar2', 'rhythm.beats_loudness_band_ratio.max', 'rhythm.beats_loudness_band_ratio.mean', 'rhythm.beats_loudness_band_ratio.median', 'rhythm.beats_loudness_band_ratio.min', 'rhythm.beats_loudness_band_ratio.stdev', 'rhythm.beats_loudness_band_ratio.var', 'rhythm.beats_position', 'rhythm.bpm', 'rhythm.bpm_histogram', 'rhythm.bpm_histogram_first_peak_bpm', 'rhythm.bpm_histogram_first_peak_weight', 'rhythm.bpm_histogram_second_peak_bpm', 'rhythm.bpm_histogram_second_peak_spread', 'rhythm.bpm_histogram_second_peak_weight', 'rhythm.danceability', 'rhythm.onset_rate', 'tonal.chords_changes_rate', 'tonal.chords_histogram', 'tonal.chords_key', 'tonal.chords_number_rate', 'tonal.chords_scale', 'tonal.chords_strength.dmean', 'tonal.chords_strength.dmean2', 'tonal.chords_strength.dvar', 'tonal.chords_strength.dvar2', 'tonal.chords_strength.max', 'tonal.chords_strength.mean', 'tonal.chords_strength.median', 'tonal.chords_strength.min', 'tonal.chords_strength.stdev', 'tonal.chords_strength.var', 'tonal.hpcp.dmean', 'tonal.hpcp.dmean2', 'tonal.hpcp.dvar', 'tonal.hpcp.dvar2', 'tonal.hpcp.max', 'tonal.hpcp.mean', 'tonal.hpcp.median', 'tonal.hpcp.min', 'tonal.hpcp.stdev', 'tonal.hpcp.var', 'tonal.hpcp_crest.dmean', 'tonal.hpcp_crest.dmean2', 'tonal.hpcp_crest.dvar', 'tonal.hpcp_crest.dvar2', 'tonal.hpcp_crest.max', 'tonal.hpcp_crest.mean', 'tonal.hpcp_crest.median', 'tonal.hpcp_crest.min', 'tonal.hpcp_crest.stdev', 'tonal.hpcp_crest.var', 'tonal.hpcp_entropy.dmean', 'tonal.hpcp_entropy.dmean2', 'tonal.hpcp_entropy.dvar', 'tonal.hpcp_entropy.dvar2', 'tonal.hpcp_entropy.max', 'tonal.hpcp_entropy.mean', 'tonal.hpcp_entropy.median', 'tonal.hpcp_entropy.min', 'tonal.hpcp_entropy.stdev', 'tonal.hpcp_entropy.var', 'tonal.key_edma.key', 'tonal.key_edma.scale', 'tonal.key_edma.strength', 'tonal.key_krumhansl.key', 'tonal.key_krumhansl.scale', 'tonal.key_krumhansl.strength', 'tonal.key_temperley.key', 'tonal.key_temperley.scale', 'tonal.key_temperley.strength', 'tonal.thpcp', 'tonal.tuning_diatonic_strength', 'tonal.tuning_equal_tempered_deviation', 'tonal.tuning_frequency', 'tonal.tuning_nontempered_energy_ratio']\n"
     ]
    }
   ],
   "source": [
    "print(sorted(features.descriptorNames()))"
   ]
  },
  {
   "cell_type": "code",
   "execution_count": 51,
   "metadata": {},
   "outputs": [
    {
     "name": "stdout",
     "output_type": "stream",
     "text": [
      "tonal.key_edma.key:  E\n",
      "tonal.key_edma.scale:  major\n",
      "rhythm.bpm:  123.77999114990234\n",
      "rhythm.danceability:  1.3268624544143677\n",
      "highlevel.genre_rosamerica.value:  pop\n",
      "highlevel.genre_rosamerica.probability:  0.6972123980522156\n",
      "highlevel.genre_electronic.value:  trance\n",
      "highlevel.genre_electronic.probability:  0.3369455635547638\n",
      "highlevel.danceability.value:  danceable\n",
      "highlevel.danceability.probability:  0.9999253153800964\n",
      "highlevel.mood_acoustic.value:  not_acoustic\n",
      "highlevel.mood_acoustic.probability:  0.979552149772644\n",
      "highlevel.mood_aggressive.value:  not_aggressive\n",
      "highlevel.mood_aggressive.probability:  0.6938707232475281\n",
      "highlevel.mood_electronic.value:  not_electronic\n",
      "highlevel.mood_electronic.probability:  0.6122953295707703\n",
      "highlevel.mood_happy.value:  happy\n",
      "highlevel.mood_happy.probability:  0.6655952334403992\n",
      "highlevel.mood_party.value:  party\n",
      "highlevel.mood_party.probability:  0.6020562648773193\n",
      "highlevel.mood_relaxed.value:  not_relaxed\n",
      "highlevel.mood_relaxed.probability:  0.6266151070594788\n",
      "highlevel.mood_sad.value:  sad\n",
      "highlevel.mood_sad.probability:  0.9250962734222412\n",
      "highlevel.moods_mirex.value:  Cluster2\n",
      "highlevel.moods_mirex.probability:  0.4544612467288971\n",
      "highlevel.voice_instrumental.value:  voice\n",
      "highlevel.voice_instrumental.probability:  0.8832458853721619\n",
      "highlevel.timbre.probability:  0.6963592767715454\n",
      "highlevel.timbre.value:  bright\n"
     ]
    }
   ],
   "source": [
    "stats_wanted = [\n",
    "    'tonal.key_edma.key',\n",
    "    'tonal.key_edma.scale',\n",
    "    \n",
    "    'rhythm.bpm',\n",
    "    'rhythm.danceability',\n",
    "    \n",
    "    'highlevel.genre_rosamerica.value',\n",
    "    'highlevel.genre_rosamerica.probability',\n",
    "    \n",
    "    'highlevel.genre_electronic.value',\n",
    "    'highlevel.genre_electronic.probability',\n",
    "    \n",
    "    'highlevel.danceability.value',\n",
    "    'highlevel.danceability.probability',\n",
    "    \n",
    "    'highlevel.mood_acoustic.value',\n",
    "    'highlevel.mood_acoustic.probability',\n",
    "    \n",
    "    'highlevel.mood_aggressive.value',\n",
    "    'highlevel.mood_aggressive.probability',\n",
    "    \n",
    "    'highlevel.mood_electronic.value',\n",
    "    'highlevel.mood_electronic.probability',\n",
    "    \n",
    "    'highlevel.mood_happy.value',\n",
    "    'highlevel.mood_happy.probability',\n",
    "    \n",
    "    'highlevel.mood_party.value',\n",
    "    'highlevel.mood_party.probability',\n",
    "    \n",
    "    'highlevel.mood_relaxed.value',\n",
    "    'highlevel.mood_relaxed.probability',\n",
    "    \n",
    "    'highlevel.mood_sad.value',\n",
    "    'highlevel.mood_sad.probability',\n",
    "    \n",
    "    'highlevel.moods_mirex.value',\n",
    "    'highlevel.moods_mirex.probability',\n",
    "    \n",
    "    'highlevel.voice_instrumental.value',\n",
    "    'highlevel.voice_instrumental.probability',\n",
    "    \n",
    "    'highlevel.timbre.probability',\n",
    "    'highlevel.timbre.value'\n",
    "]\n",
    "\n",
    "for stat in stats_wanted:\n",
    "    print(stat+':  '+str(features[stat]))"
   ]
  },
  {
   "cell_type": "code",
   "execution_count": null,
   "metadata": {},
   "outputs": [],
   "source": []
  }
 ],
 "metadata": {
  "kernelspec": {
   "display_name": "Python 3",
   "language": "python",
   "name": "python3"
  },
  "language_info": {
   "codemirror_mode": {
    "name": "ipython",
    "version": 3
   },
   "file_extension": ".py",
   "mimetype": "text/x-python",
   "name": "python",
   "nbconvert_exporter": "python",
   "pygments_lexer": "ipython3",
   "version": "3.7.4"
  }
 },
 "nbformat": 4,
 "nbformat_minor": 4
}
