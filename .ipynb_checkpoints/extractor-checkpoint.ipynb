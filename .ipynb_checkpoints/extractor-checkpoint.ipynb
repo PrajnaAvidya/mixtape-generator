{
 "cells": [
  {
   "cell_type": "code",
   "execution_count": 3,
   "metadata": {},
   "outputs": [
    {
     "name": "stdout",
     "output_type": "stream",
     "text": [
      "Collecting essentia\n",
      "  Downloading essentia-2.1b6.dev184-cp37-cp37m-manylinux1_x86_64.whl (11.7 MB)\n",
      "\u001b[K     |████████████████████████████████| 11.7 MB 251 kB/s  eta 0:00:01   |███████████▊                    | 4.3 MB 1.6 MB/s eta 0:00:05     |██████████████▍                 | 5.3 MB 1.6 MB/s eta 0:00:04\n",
      "\u001b[?25hRequirement already satisfied: pyyaml in /opt/conda/lib/python3.7/site-packages (from essentia) (5.3)\n",
      "Requirement already satisfied: numpy>=1.8.2 in /opt/conda/lib/python3.7/site-packages (from essentia) (1.17.5)\n",
      "Requirement already satisfied: six in /opt/conda/lib/python3.7/site-packages (from essentia) (1.14.0)\n",
      "Installing collected packages: essentia\n",
      "Successfully installed essentia-2.1b6.dev184\n"
     ]
    }
   ],
   "source": [
    "import sys\n",
    "!{sys.executable} -m pip install essentia"
   ]
  },
  {
   "cell_type": "code",
   "execution_count": 2,
   "metadata": {
    "scrolled": true
   },
   "outputs": [],
   "source": [
    "import os\n",
    "import essentia\n",
    "import essentia.standard as es"
   ]
  },
  {
   "cell_type": "code",
   "execution_count": 55,
   "metadata": {},
   "outputs": [],
   "source": [
    "#filename = \"./../../music/16 Bit Lolitas/Beat Organ EP/01 Beat Organ (original mix).mp3\"\n",
    "filename = './../../music/Ne‐Yo/Year of the Gentleman/01 Closer.mp3'\n",
    "\n",
    "features, features_frames = es.MusicExtractor(profile=\"profile.yml\")(filename)"
   ]
  },
  {
   "cell_type": "code",
   "execution_count": 64,
   "metadata": {
    "scrolled": false
   },
   "outputs": [
    {
     "name": "stdout",
     "output_type": "stream",
     "text": [
      "01 Doncamatic.mp3\n",
      "<essentia.common.Pool object at 0x7fa8d75cfe90>\n"
     ]
    },
    {
     "ename": "RuntimeError",
     "evalue": "No active exception to reraise",
     "output_type": "error",
     "traceback": [
      "\u001b[0;31m---------------------------------------------------------------------------\u001b[0m",
      "\u001b[0;31mRuntimeError\u001b[0m                              Traceback (most recent call last)",
      "\u001b[0;32m<ipython-input-64-a755beb63d2b>\u001b[0m in \u001b[0;36m<module>\u001b[0;34m\u001b[0m\n\u001b[1;32m      9\u001b[0m             \u001b[0mprint\u001b[0m\u001b[0;34m(\u001b[0m\u001b[0mfeatures_frames\u001b[0m\u001b[0;34m)\u001b[0m\u001b[0;34m\u001b[0m\u001b[0;34m\u001b[0m\u001b[0m\n\u001b[1;32m     10\u001b[0m             \u001b[0;31m# TODO store in database\u001b[0m\u001b[0;34m\u001b[0m\u001b[0;34m\u001b[0m\u001b[0;34m\u001b[0m\u001b[0m\n\u001b[0;32m---> 11\u001b[0;31m             \u001b[0;32mraise\u001b[0m\u001b[0;34m\u001b[0m\u001b[0;34m\u001b[0m\u001b[0m\n\u001b[0m",
      "\u001b[0;31mRuntimeError\u001b[0m: No active exception to reraise"
     ]
    }
   ],
   "source": [
    "# scan all directories for audio files\n",
    "directories = [x[0] for x in os.walk('./../../music/')]\n",
    "for directory in directories:\n",
    "    for file in os.listdir(directory):\n",
    "        if file.endswith('.mp3') or file.endswith('.m4a') or file.endswith('.ogg') or file.endswith('.m4p') or file.endswith('.flac'):\n",
    "            print(file)\n",
    "            filename = directory+'/'+file\n",
    "            features, features_frames = es.MusicExtractor(profile=\"profile.yml\")(filename)\n",
    "            print(features_frames)\n",
    "            # TODO store in database\n",
    "            raise"
   ]
  },
  {
   "cell_type": "code",
   "execution_count": 54,
   "metadata": {},
   "outputs": [],
   "source": [
    "#print(sorted(features.descriptorNames()))"
   ]
  },
  {
   "cell_type": "code",
   "execution_count": 105,
   "metadata": {},
   "outputs": [
    {
     "name": "stdout",
     "output_type": "stream",
     "text": [
      "highlevel.danceability.all.danceable:  0.9999253153800964\n",
      "highlevel.danceability.all.not_danceable:  7.469835691154003e-05\n",
      "highlevel.genre_electronic.all.ambient:  0.2901545763015747\n",
      "highlevel.genre_electronic.all.dnb:  0.04171855375170708\n",
      "highlevel.genre_electronic.all.house:  0.31343817710876465\n",
      "highlevel.genre_electronic.all.techno:  0.017702948302030563\n",
      "highlevel.genre_electronic.all.trance:  0.3369857370853424\n",
      "highlevel.genre_rosamerica.all.cla:  0.001343433978036046\n",
      "highlevel.genre_rosamerica.all.dan:  0.1654413789510727\n",
      "highlevel.genre_rosamerica.all.hip:  0.013723010197281837\n",
      "highlevel.genre_rosamerica.all.jaz:  0.0022148415446281433\n",
      "highlevel.genre_rosamerica.all.pop:  0.6972100734710693\n",
      "highlevel.genre_rosamerica.all.rhy:  0.08043279498815536\n",
      "highlevel.genre_rosamerica.all.roc:  0.03649448603391647\n",
      "highlevel.genre_rosamerica.all.spe:  0.003139983396977186\n",
      "highlevel.mood_acoustic.all.acoustic:  0.020447153598070145\n",
      "highlevel.mood_acoustic.all.not_acoustic:  0.9795528650283813\n",
      "highlevel.mood_aggressive.all.aggressive:  0.30611512064933777\n",
      "highlevel.mood_aggressive.all.not_aggressive:  0.6938849091529846\n",
      "highlevel.mood_electronic.all.electronic:  0.3876411020755768\n",
      "highlevel.mood_electronic.all.not_electronic:  0.6123588681221008\n",
      "highlevel.mood_happy.all.happy:  0.6659471392631531\n",
      "highlevel.mood_happy.all.not_happy:  0.3340528607368469\n",
      "highlevel.mood_party.all.not_party:  0.3982016444206238\n",
      "highlevel.mood_party.all.party:  0.6017983555793762\n",
      "highlevel.mood_relaxed.all.not_relaxed:  0.6266484260559082\n",
      "highlevel.mood_relaxed.all.relaxed:  0.3733515441417694\n",
      "highlevel.mood_sad.all.not_sad:  0.0748802050948143\n",
      "highlevel.mood_sad.all.sad:  0.9251198172569275\n",
      "highlevel.moods_mirex.all.Cluster1:  0.0643245130777359\n",
      "highlevel.moods_mirex.all.Cluster2:  0.45453834533691406\n",
      "highlevel.moods_mirex.all.Cluster3:  0.021866505965590477\n",
      "highlevel.moods_mirex.all.Cluster4:  0.4454163908958435\n",
      "highlevel.moods_mirex.all.Cluster5:  0.013854240998625755\n",
      "highlevel.timbre.all.bright:  0.6964235305786133\n",
      "highlevel.timbre.all.dark:  0.3035764694213867\n",
      "highlevel.voice_instrumental.all.instrumental:  0.11663457751274109\n",
      "highlevel.voice_instrumental.all.voice:  0.8833654522895813\n",
      "lowlevel.average_loudness:  0.9417968392372131\n",
      "lowlevel.dissonance.median:  0.4734902083873749\n",
      "lowlevel.dynamic_complexity:  4.185009002685547\n",
      "rhythm.beats_count:  410.0\n",
      "rhythm.beats_loudness.median:  0.0656428337097168\n",
      "rhythm.bpm:  123.77999114990234\n",
      "rhythm.danceability:  1.3268624544143677\n",
      "rhythm.onset_rate:  4.132331371307373\n",
      "tonal.chords_changes_rate:  0.06372092664241791\n",
      "tonal.chords_number_rate:  0.0018604651559144258\n",
      "tonal.chords_strength.median:  0.48653167486190796\n",
      "tonal.tuning_diatonic_strength:  0.5424843430519104\n",
      "tonal.tuning_equal_tempered_deviation:  0.29664894938468933\n",
      "tonal.tuning_frequency:  434.193115234375\n",
      "tonal.tuning_nontempered_energy_ratio:  0.9725340008735657\n",
      "highlevel.danceability.value:  danceable\n",
      "highlevel.genre_electronic.value:  trance\n",
      "highlevel.genre_rosamerica.value:  pop\n",
      "highlevel.mood_acoustic.value:  not_acoustic\n",
      "highlevel.mood_aggressive.value:  not_aggressive\n",
      "highlevel.mood_electronic.value:  not_electronic\n",
      "highlevel.mood_happy.value:  happy\n",
      "highlevel.mood_party.value:  party\n",
      "highlevel.mood_relaxed.value:  not_relaxed\n",
      "highlevel.mood_sad.value:  sad\n",
      "highlevel.moods_mirex.value:  Cluster2\n",
      "highlevel.timbre.value:  bright\n",
      "highlevel.voice_instrumental.value:  voice\n",
      "tonal.chords_key:  B\n",
      "tonal.chords_scale:  minor\n",
      "tonal.key_edma.key:  E\n",
      "tonal.key_edma.scale:  major\n",
      "tonal.key_krumhansl.key:  E\n",
      "tonal.key_krumhansl.scale:  major\n",
      "tonal.key_temperley.key:  E\n",
      "tonal.key_temperley.scale:  major\n"
     ]
    }
   ],
   "source": [
    "ignorePrefix = [\n",
    "    'lowlevel.barkbands',\n",
    "    'lowlevel.dissonance',\n",
    "    'lowlevel.erbbands',\n",
    "    'lowlevel.melbands',\n",
    "    'lowlevel.mfcc',\n",
    "    'lowlevel.hfc',\n",
    "    'lowlevel.loudness_ebu128',\n",
    "    'lowlevel.pitch_salience',\n",
    "    'lowlevel.silence_rate',\n",
    "    'lowlevel.spectral_',\n",
    "    'lowlevel.zerocrossingrate',\n",
    "    'tonal.hpcp',\n",
    "    'rhythm.beats_loudness',\n",
    "    'rhythm.beats_position',\n",
    "    'rhythm.bpm_histogram',\n",
    "    'tonal.chords_histogram',\n",
    "    'tonal.thpcp',\n",
    "    'tonal.chords_strength',\n",
    "    'tonal.tuning_diatonic_strength',\n",
    "    'tonal.tuning_equal_tempered_deviation',\n",
    "    'tonal.tuning_nontempered_energy_ratio',\n",
    "    'lowlevel.gfcc',\n",
    "    'lowlevel.mfcc',\n",
    "    'metadata'\n",
    "]\n",
    "\n",
    "ignoreSuffix = [\n",
    "    '.probability',\n",
    "    '.strength'\n",
    "]\n",
    "\n",
    "whitelist = [\n",
    "    'lowlevel.dissonance.median',\n",
    "    'rhythm.beats_loudness.median',\n",
    "    'tonal.chords_strength.median'\n",
    "]\n",
    "\n",
    "for stat in features.descriptorNames():\n",
    "    if stat in whitelist or (not stat.startswith(tuple(ignorePrefix)) and not stat.endswith(tuple(ignoreSuffix))):\n",
    "    #if (not stat.startswith(tuple(ignorePrefix))):\n",
    "        print(stat+':  '+str(features[stat]))"
   ]
  },
  {
   "cell_type": "code",
   "execution_count": null,
   "metadata": {},
   "outputs": [],
   "source": []
  }
 ],
 "metadata": {
  "kernelspec": {
   "display_name": "Python 3",
   "language": "python",
   "name": "python3"
  },
  "language_info": {
   "codemirror_mode": {
    "name": "ipython",
    "version": 3
   },
   "file_extension": ".py",
   "mimetype": "text/x-python",
   "name": "python",
   "nbconvert_exporter": "python",
   "pygments_lexer": "ipython3",
   "version": "3.7.4"
  }
 },
 "nbformat": 4,
 "nbformat_minor": 4
}
